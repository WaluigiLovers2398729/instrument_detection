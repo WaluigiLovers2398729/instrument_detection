{
 "cells": [
  {
   "cell_type": "code",
   "execution_count": 1,
   "id": "f77d60d3",
   "metadata": {},
   "outputs": [],
   "source": [
    "from get_spectrogram import *\n",
    "from data import *\n",
    "from digital_sampling import *"
   ]
  },
  {
   "cell_type": "code",
   "execution_count": 2,
   "id": "531414ec",
   "metadata": {},
   "outputs": [],
   "source": [
    "from matplotlib.mlab import specgram"
   ]
  },
  {
   "cell_type": "code",
   "execution_count": 3,
   "id": "02582fcb",
   "metadata": {},
   "outputs": [],
   "source": [
    "# for subdir, dirs, files in os.walk(file_path):\n",
    "#         inst = os.path.basename(os.path.normpath(subdir))\n",
    "#         for file in files:\n",
    "#             p = os.path.join(subdir, file)\n",
    "digital_samples, times = filesample(\"IRMAS-Sample/IRMAS-Sample/Training/sax/118__[sax][nod][jaz_blu]1702__3.wav\")"
   ]
  },
  {
   "cell_type": "code",
   "execution_count": 3,
   "id": "8e2f1818",
   "metadata": {},
   "outputs": [
    {
     "name": "stdout",
     "output_type": "stream",
     "text": [
      "(132299, 2)\n",
      "(132299,)\n"
     ]
    }
   ],
   "source": [
    "print(digital_samples.shape)\n",
    "print(times.shape)"
   ]
  },
  {
   "cell_type": "code",
   "execution_count": 5,
   "id": "7dbe3c65",
   "metadata": {},
   "outputs": [],
   "source": [
    "spectrogram = make_spectogram(digital_samples, times)"
   ]
  },
  {
   "cell_type": "code",
   "execution_count": 6,
   "id": "32c0bc51",
   "metadata": {},
   "outputs": [
    {
     "name": "stdout",
     "output_type": "stream",
     "text": [
      "(129, 1032, 2)\n",
      "[[17.05983606 15.6193735 ]\n",
      " [17.16815436 16.37708153]\n",
      " [18.38665698 17.12216747]\n",
      " [15.86933019 15.25463132]\n",
      " [17.20305875 16.87513575]\n",
      " [12.66425853 13.6822199 ]\n",
      " [16.34361655 15.7611101 ]\n",
      " [15.70190154 17.89224332]\n",
      " [17.52931845 17.30461422]\n",
      " [13.23551724 15.76328636]]\n"
     ]
    }
   ],
   "source": [
    "print(spectrogram.shape)\n",
    "print(spectrogram[0,:10])"
   ]
  },
  {
   "cell_type": "code",
   "execution_count": 7,
   "id": "bbb9c26b",
   "metadata": {},
   "outputs": [
    {
     "name": "stdout",
     "output_type": "stream",
     "text": [
      "[[ 1230 -3317]\n",
      " [ 1334 -3267]\n",
      " [ 2036 -2484]\n",
      " [ 3618  -863]\n",
      " [ 5631  1446]\n",
      " [ 7527  3593]\n",
      " [ 9234  5481]\n",
      " [10676  7447]\n",
      " [11546  8639]\n",
      " [11681  8545]]\n"
     ]
    }
   ],
   "source": [
    "print(digital_samples[:10])"
   ]
  },
  {
   "cell_type": "code",
   "execution_count": 15,
   "id": "4bc4e200",
   "metadata": {},
   "outputs": [],
   "source": [
    "spectrogram, freqs, times = specgram(digital_samples[:,0])"
   ]
  },
  {
   "cell_type": "code",
   "execution_count": 16,
   "id": "ef8ea285",
   "metadata": {},
   "outputs": [
    {
     "data": {
      "text/plain": [
       "array([[17.05983606, 17.16815436, 18.38665698, ..., 16.55612244,\n",
       "        19.00959264, 17.94943529],\n",
       "       [18.65908833, 19.12533787, 20.52380972, ..., 18.7035119 ,\n",
       "        19.73402146, 19.64628368],\n",
       "       [20.87270422, 18.37609251, 21.23618792, ..., 19.96867512,\n",
       "        20.36570158, 19.53529957],\n",
       "       ...,\n",
       "       [-2.93167864, -2.75298285, -3.96346912, ..., -2.12311425,\n",
       "        -3.73380779, -1.9877318 ],\n",
       "       [-1.74125768, -2.88410166, -5.1713986 , ..., -4.02645536,\n",
       "        -4.01480464, -3.52182482],\n",
       "       [-3.22275295, -3.70814924, -8.30193829, ..., -7.141046  ,\n",
       "        -4.81338859, -5.21646504]])"
      ]
     },
     "execution_count": 16,
     "metadata": {},
     "output_type": "execute_result"
    }
   ],
   "source": [
    "np.clip(spectrogram, a_min=1e-20, a_max=None, out=spectrogram)\n",
    "np.log(spectrogram, out=spectrogram)"
   ]
  },
  {
   "cell_type": "code",
   "execution_count": null,
   "id": "edba43d0",
   "metadata": {},
   "outputs": [],
   "source": [
    "dict[inst] = spectrogram"
   ]
  }
 ],
 "metadata": {
  "kernelspec": {
   "display_name": "Python 3",
   "language": "python",
   "name": "python3"
  },
  "language_info": {
   "codemirror_mode": {
    "name": "ipython",
    "version": 3
   },
   "file_extension": ".py",
   "mimetype": "text/x-python",
   "name": "python",
   "nbconvert_exporter": "python",
   "pygments_lexer": "ipython3",
   "version": "3.8.10"
  }
 },
 "nbformat": 4,
 "nbformat_minor": 5
}
